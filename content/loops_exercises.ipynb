{
 "cells": [
  {
   "cell_type": "markdown",
   "id": "6d8b0388",
   "metadata": {},
   "source": [
    "# III. Loops Exercises"
   ]
  },
  {
   "cell_type": "markdown",
   "id": "75bec560",
   "metadata": {},
   "source": [
    "## 1. Write a program to print \"Hello\" five times"
   ]
  },
  {
   "cell_type": "code",
   "execution_count": null,
   "id": "0f0108cb",
   "metadata": {},
   "outputs": [],
   "source": [
    "# Your code here:"
   ]
  },
  {
   "cell_type": "markdown",
   "id": "ba59a3b1",
   "metadata": {},
   "source": [
    "## 2. Print out the contents of the below list"
   ]
  },
  {
   "cell_type": "code",
   "execution_count": null,
   "id": "67e1bcb3",
   "metadata": {},
   "outputs": [],
   "source": [
    "my_list = [True, 'two', 3.0, 4]\n",
    "\n",
    "# Your code here:"
   ]
  },
  {
   "cell_type": "markdown",
   "id": "a850ba3d",
   "metadata": {},
   "source": [
    "## 3. Write a program to calculate 5! using a loop. \n",
    "\n",
    "Reminder: \"!\" (factorial) is calculated by multiplying an integer by each positive integer lower than it.\n",
    "For example, 3! is equal to 3 x 2 x 1"
   ]
  },
  {
   "cell_type": "code",
   "execution_count": null,
   "id": "1f4eea25",
   "metadata": {},
   "outputs": [],
   "source": [
    "# Your code here:"
   ]
  },
  {
   "cell_type": "markdown",
   "id": "4c96ce47",
   "metadata": {},
   "source": [
    "## Challenge 1: For each of the above questions, if you solved it with a for-loop, use a while-loop, and vice-versa"
   ]
  },
  {
   "cell_type": "code",
   "execution_count": null,
   "id": "fb7b8b9c",
   "metadata": {},
   "outputs": [],
   "source": [
    "# Your code here:"
   ]
  },
  {
   "cell_type": "markdown",
   "id": "2238c06c",
   "metadata": {},
   "source": [
    "## Challenge 2: Rock-Paper-Scissors with Loops\n",
    "\n",
    "In the previous chapter, we implemented a simple game of Rock-Paper-Scissors. Update it with the functionality to play multiple games before exiting. "
   ]
  },
  {
   "cell_type": "code",
   "execution_count": null,
   "id": "ffe3d795",
   "metadata": {},
   "outputs": [],
   "source": [
    "# Your code here: "
   ]
  }
 ],
 "metadata": {
  "kernelspec": {
   "display_name": "venv (3.11.7)",
   "language": "python",
   "name": "python3"
  },
  "language_info": {
   "name": "python",
   "version": "3.11.7"
  }
 },
 "nbformat": 4,
 "nbformat_minor": 5
}
